{
 "cells": [
  {
   "cell_type": "code",
   "execution_count": 11,
   "metadata": {},
   "outputs": [],
   "source": [
    "import pandas as pd\n",
    "import matplotlib.pyplot as plt\n",
    "# import seaborn as sns\n",
    "%matplotlib inline\n",
    "import os"
   ]
  },
  {
   "cell_type": "code",
   "execution_count": 2,
   "metadata": {},
   "outputs": [],
   "source": [
    "with open(\"task_5_data\\data_dr3_54\") as f:\n",
    "    text = f.read()"
   ]
  },
  {
   "cell_type": "code",
   "execution_count": 3,
   "metadata": {},
   "outputs": [
    {
     "data": {
      "text/html": [
       "<div>\n",
       "<style scoped>\n",
       "    .dataframe tbody tr th:only-of-type {\n",
       "        vertical-align: middle;\n",
       "    }\n",
       "\n",
       "    .dataframe tbody tr th {\n",
       "        vertical-align: top;\n",
       "    }\n",
       "\n",
       "    .dataframe thead th {\n",
       "        text-align: right;\n",
       "    }\n",
       "</style>\n",
       "<table border=\"1\" class=\"dataframe\">\n",
       "  <thead>\n",
       "    <tr style=\"text-align: right;\">\n",
       "      <th></th>\n",
       "      <th>random_index</th>\n",
       "      <th>visibility_periods_used</th>\n",
       "      <th>astrometric_matched_transits</th>\n",
       "      <th>astrometric_n_obs_al</th>\n",
       "      <th>astrometric_n_obs_ac</th>\n",
       "    </tr>\n",
       "  </thead>\n",
       "  <tbody>\n",
       "    <tr>\n",
       "      <th>0</th>\n",
       "      <td>996037696</td>\n",
       "      <td>20</td>\n",
       "      <td>46</td>\n",
       "      <td>401</td>\n",
       "      <td>0</td>\n",
       "    </tr>\n",
       "    <tr>\n",
       "      <th>1</th>\n",
       "      <td>983301683</td>\n",
       "      <td>19</td>\n",
       "      <td>53</td>\n",
       "      <td>460</td>\n",
       "      <td>0</td>\n",
       "    </tr>\n",
       "    <tr>\n",
       "      <th>2</th>\n",
       "      <td>992053426</td>\n",
       "      <td>20</td>\n",
       "      <td>48</td>\n",
       "      <td>422</td>\n",
       "      <td>0</td>\n",
       "    </tr>\n",
       "    <tr>\n",
       "      <th>3</th>\n",
       "      <td>994704664</td>\n",
       "      <td>19</td>\n",
       "      <td>48</td>\n",
       "      <td>416</td>\n",
       "      <td>0</td>\n",
       "    </tr>\n",
       "    <tr>\n",
       "      <th>4</th>\n",
       "      <td>990729937</td>\n",
       "      <td>19</td>\n",
       "      <td>54</td>\n",
       "      <td>473</td>\n",
       "      <td>0</td>\n",
       "    </tr>\n",
       "  </tbody>\n",
       "</table>\n",
       "</div>"
      ],
      "text/plain": [
       "   random_index  visibility_periods_used  astrometric_matched_transits  \\\n",
       "0     996037696                       20                            46   \n",
       "1     983301683                       19                            53   \n",
       "2     992053426                       20                            48   \n",
       "3     994704664                       19                            48   \n",
       "4     990729937                       19                            54   \n",
       "\n",
       "   astrometric_n_obs_al  astrometric_n_obs_ac  \n",
       "0                   401                     0  \n",
       "1                   460                     0  \n",
       "2                   422                     0  \n",
       "3                   416                     0  \n",
       "4                   473                     0  "
      ]
     },
     "execution_count": 3,
     "metadata": {},
     "output_type": "execute_result"
    }
   ],
   "source": [
    "data = pd.read_csv(\"task_5_data\\data_dr3_54\", sep=' ')\n",
    "data.head()"
   ]
  },
  {
   "cell_type": "code",
   "execution_count": 10,
   "metadata": {},
   "outputs": [
    {
     "data": {
      "image/png": "[encoded data removed]",
      "text/plain": [
       "<Figure size 640x480 with 1 Axes>"
      ]
     },
     "metadata": {},
     "output_type": "display_data"
    }
   ],
   "source": [
    "plt.hist(data[\"visibility_periods_used\"], bins = 100, log = True)\n",
    "plt.xlabel(\"Period [Days]\")\n",
    "plt.ylabel(\"log [count]\")\n",
    "plt.title(\"Histogram of the stellar period in the Gaia catalog\")\n",
    "plt.show()"
   ]
  },
  {
   "cell_type": "code",
   "execution_count": 32,
   "metadata": {},
   "outputs": [],
   "source": [
    "files = os.listdir(\"task_5_data\")"
   ]
  },
  {
   "cell_type": "code",
   "execution_count": 39,
   "metadata": {},
   "outputs": [],
   "source": [
    "path = \"task_5_data\"\n",
    "frames = [pd.read_csv(path+'/'+f, sep=' ') for f in files]\n",
    "data_task = pd.concat(frames)"
   ]
  },
  {
   "cell_type": "code",
   "execution_count": 40,
   "metadata": {},
   "outputs": [
    {
     "data": {
      "text/html": [
       "<div>\n",
       "<style scoped>\n",
       "    .dataframe tbody tr th:only-of-type {\n",
       "        vertical-align: middle;\n",
       "    }\n",
       "\n",
       "    .dataframe tbody tr th {\n",
       "        vertical-align: top;\n",
       "    }\n",
       "\n",
       "    .dataframe thead th {\n",
       "        text-align: right;\n",
       "    }\n",
       "</style>\n",
       "<table border=\"1\" class=\"dataframe\">\n",
       "  <thead>\n",
       "    <tr style=\"text-align: right;\">\n",
       "      <th></th>\n",
       "      <th>random_index</th>\n",
       "      <th>visibility_periods_used</th>\n",
       "      <th>astrometric_matched_transits</th>\n",
       "      <th>astrometric_n_obs_al</th>\n",
       "      <th>astrometric_n_obs_ac</th>\n",
       "    </tr>\n",
       "  </thead>\n",
       "  <tbody>\n",
       "    <tr>\n",
       "      <th>0</th>\n",
       "      <td>996037696</td>\n",
       "      <td>20</td>\n",
       "      <td>46</td>\n",
       "      <td>401</td>\n",
       "      <td>0</td>\n",
       "    </tr>\n",
       "    <tr>\n",
       "      <th>1</th>\n",
       "      <td>983301683</td>\n",
       "      <td>19</td>\n",
       "      <td>53</td>\n",
       "      <td>460</td>\n",
       "      <td>0</td>\n",
       "    </tr>\n",
       "    <tr>\n",
       "      <th>2</th>\n",
       "      <td>992053426</td>\n",
       "      <td>20</td>\n",
       "      <td>48</td>\n",
       "      <td>422</td>\n",
       "      <td>0</td>\n",
       "    </tr>\n",
       "    <tr>\n",
       "      <th>3</th>\n",
       "      <td>994704664</td>\n",
       "      <td>19</td>\n",
       "      <td>48</td>\n",
       "      <td>416</td>\n",
       "      <td>0</td>\n",
       "    </tr>\n",
       "    <tr>\n",
       "      <th>4</th>\n",
       "      <td>990729937</td>\n",
       "      <td>19</td>\n",
       "      <td>54</td>\n",
       "      <td>473</td>\n",
       "      <td>0</td>\n",
       "    </tr>\n",
       "    <tr>\n",
       "      <th>...</th>\n",
       "      <td>...</td>\n",
       "      <td>...</td>\n",
       "      <td>...</td>\n",
       "      <td>...</td>\n",
       "      <td>...</td>\n",
       "    </tr>\n",
       "    <tr>\n",
       "      <th>827258</th>\n",
       "      <td>1082584686</td>\n",
       "      <td>17</td>\n",
       "      <td>55</td>\n",
       "      <td>482</td>\n",
       "      <td>0</td>\n",
       "    </tr>\n",
       "    <tr>\n",
       "      <th>827259</th>\n",
       "      <td>1070547862</td>\n",
       "      <td>16</td>\n",
       "      <td>25</td>\n",
       "      <td>218</td>\n",
       "      <td>0</td>\n",
       "    </tr>\n",
       "    <tr>\n",
       "      <th>827260</th>\n",
       "      <td>1079855528</td>\n",
       "      <td>15</td>\n",
       "      <td>48</td>\n",
       "      <td>415</td>\n",
       "      <td>0</td>\n",
       "    </tr>\n",
       "    <tr>\n",
       "      <th>827261</th>\n",
       "      <td>1080120351</td>\n",
       "      <td>16</td>\n",
       "      <td>42</td>\n",
       "      <td>370</td>\n",
       "      <td>0</td>\n",
       "    </tr>\n",
       "    <tr>\n",
       "      <th>827262</th>\n",
       "      <td>1082456552</td>\n",
       "      <td>16</td>\n",
       "      <td>43</td>\n",
       "      <td>381</td>\n",
       "      <td>0</td>\n",
       "    </tr>\n",
       "  </tbody>\n",
       "</table>\n",
       "<p>4956162 rows × 5 columns</p>\n",
       "</div>"
      ],
      "text/plain": [
       "        random_index  visibility_periods_used  astrometric_matched_transits  \\\n",
       "0          996037696                       20                            46   \n",
       "1          983301683                       19                            53   \n",
       "2          992053426                       20                            48   \n",
       "3          994704664                       19                            48   \n",
       "4          990729937                       19                            54   \n",
       "...              ...                      ...                           ...   \n",
       "827258    1082584686                       17                            55   \n",
       "827259    1070547862                       16                            25   \n",
       "827260    1079855528                       15                            48   \n",
       "827261    1080120351                       16                            42   \n",
       "827262    1082456552                       16                            43   \n",
       "\n",
       "        astrometric_n_obs_al  astrometric_n_obs_ac  \n",
       "0                        401                     0  \n",
       "1                        460                     0  \n",
       "2                        422                     0  \n",
       "3                        416                     0  \n",
       "4                        473                     0  \n",
       "...                      ...                   ...  \n",
       "827258                   482                     0  \n",
       "827259                   218                     0  \n",
       "827260                   415                     0  \n",
       "827261                   370                     0  \n",
       "827262                   381                     0  \n",
       "\n",
       "[4956162 rows x 5 columns]"
      ]
     },
     "execution_count": 40,
     "metadata": {},
     "output_type": "execute_result"
    }
   ],
   "source": [
    "data_task"
   ]
  },
  {
   "cell_type": "code",
   "execution_count": 45,
   "metadata": {},
   "outputs": [
    {
     "data": {
      "text/plain": [
       "astrometric_n_obs_ac\n",
       "0       4506976\n",
       "9        137515\n",
       "8         35037\n",
       "18         4803\n",
       "7          2682\n",
       "         ...   \n",
       "1148          1\n",
       "1135          1\n",
       "1280          1\n",
       "1252          1\n",
       "1065          1\n",
       "Name: count, Length: 1190, dtype: int64"
      ]
     },
     "execution_count": 45,
     "metadata": {},
     "output_type": "execute_result"
    }
   ],
   "source": [
    "data_task[\"astrometric_n_obs_ac\"].value_counts()"
   ]
  },
  {
   "cell_type": "markdown",
   "metadata": {},
   "source": [
    "## период изменчивости звезд"
   ]
  },
  {
   "cell_type": "code",
   "execution_count": 41,
   "metadata": {},
   "outputs": [
    {
     "data": {
      "image/png": "[encoded data removed]",
      "text/plain": [
       "<Figure size 640x480 with 1 Axes>"
      ]
     },
     "metadata": {},
     "output_type": "display_data"
    }
   ],
   "source": [
    "plt.hist(data_task[\"visibility_periods_used\"], bins = 100, log = True)\n",
    "plt.xlabel(\"Period [Days]\")\n",
    "plt.ylabel(\"log [count]\")\n",
    "plt.title(\"Histogram of the stellar period in the Gaia catalog\")\n",
    "plt.show()"
   ]
  },
  {
   "cell_type": "code",
   "execution_count": 42,
   "metadata": {},
   "outputs": [],
   "source": [
    "## распределение изменчивости звезд???"
   ]
  },
  {
   "cell_type": "code",
   "execution_count": 43,
   "metadata": {},
   "outputs": [
    {
     "data": {
      "image/png": "[encoded data removed]",
      "text/plain": [
       "<Figure size 640x480 with 1 Axes>"
      ]
     },
     "metadata": {},
     "output_type": "display_data"
    }
   ],
   "source": [
    "sources = data_task[\"astrometric_n_obs_ac\"].value_counts().index\n",
    "count = data_task[\"astrometric_n_obs_ac\"].value_counts().values\n",
    "data_df = pd.DataFrame({\"sources\": sources,\n",
    "                       \"sources_count\": count})\n",
    "data_df = data_df.sort_values(\"sources_count\")\n",
    "plt.bar(data_df[\"sources\"], data_df[\"sources_count\"])\n",
    "plt.xlabel(\"Variability Type\")\n",
    "plt.ylabel(\"Count\")\n",
    "plt.title(\"Distribution of the variability type\")\n",
    "plt.show()"
   ]
  },
  {
   "cell_type": "code",
   "execution_count": null,
   "metadata": {},
   "outputs": [],
   "source": []
  }
 ],
 "metadata": {
  "kernelspec": {
   "display_name": ".venv",
   "language": "python",
   "name": "python3"
  },
  "language_info": {
   "codemirror_mode": {
    "name": "ipython",
    "version": 3
   },
   "file_extension": ".py",
   "mimetype": "text/x-python",
   "name": "python",
   "nbconvert_exporter": "python",
   "pygments_lexer": "ipython3",
   "version": "3.10.0"
  }
 },
 "nbformat": 4,
 "nbformat_minor": 2
}
